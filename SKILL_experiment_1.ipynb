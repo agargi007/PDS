{
  "nbformat": 4,
  "nbformat_minor": 0,
  "metadata": {
    "colab": {
      "provenance": [],
      "authorship_tag": "ABX9TyNWO1VQImyYwFGSoyYBd/zm",
      "include_colab_link": true
    },
    "kernelspec": {
      "name": "python3",
      "display_name": "Python 3"
    },
    "language_info": {
      "name": "python"
    }
  },
  "cells": [
    {
      "cell_type": "markdown",
      "metadata": {
        "id": "view-in-github",
        "colab_type": "text"
      },
      "source": [
        "<a href=\"https://colab.research.google.com/github/agargi007/PDS/blob/main/SKILL_experiment_1.ipynb\" target=\"_parent\"><img src=\"https://colab.research.google.com/assets/colab-badge.svg\" alt=\"Open In Colab\"/></a>"
      ]
    },
    {
      "cell_type": "markdown",
      "source": [
        "1. Download 2 datasets\n",
        "2. Import neccessary libraries( here numpy & pandas )\n",
        "3. Read the two CSV files\n",
        "4. Merge the two datasets on two common columns present in the two daatsets\n",
        "   using the in built merge() function in python\n",
        "5. Concat the two datasets using the concat funtion in python\n",
        "6. perform sampling of the two datasets\n",
        "7. Use functions like dropna(), fillna(), .info() , .describe() ,\n",
        "  drop_duplicates()\n",
        "  \n"
      ],
      "metadata": {
        "id": "QHRe9b_jezfd"
      }
    },
    {
      "cell_type": "code",
      "execution_count": null,
      "metadata": {
        "colab": {
          "base_uri": "https://localhost:8080/"
        },
        "id": "Xvbt3Rarm2px",
        "outputId": "c2451f70-6913-415a-c46b-424ac760d6a3"
      },
      "outputs": [
        {
          "output_type": "stream",
          "name": "stdout",
          "text": [
            "Concatenated Data - First few rows:\n",
            "   longitude  latitude  housing_median_age  total_rooms  total_bedrooms  \\\n",
            "0    -122.05     37.37                27.0       3885.0           661.0   \n",
            "1    -118.30     34.26                43.0       1510.0           310.0   \n",
            "2    -117.81     33.78                27.0       3589.0           507.0   \n",
            "3    -118.36     33.82                28.0         67.0            15.0   \n",
            "4    -119.67     36.33                19.0       1241.0           244.0   \n",
            "\n",
            "   population  households  median_income  median_house_value  \n",
            "0      1537.0       606.0         6.6085            344700.0  \n",
            "1       809.0       277.0         3.5990            176500.0  \n",
            "2      1484.0       495.0         5.7934            270500.0  \n",
            "3        49.0        11.0         6.1359            330000.0  \n",
            "4       850.0       237.0         2.9375             81700.0  \n",
            "Merged Data - First few rows:\n",
            "   longitude  latitude  housing_median_age_x  total_rooms_x  total_bedrooms_x  \\\n",
            "0    -124.35     40.54                   NaN            NaN               NaN   \n",
            "1    -124.30     41.80                   NaN            NaN               NaN   \n",
            "2    -124.30     41.84                   NaN            NaN               NaN   \n",
            "3    -124.27     40.69                   NaN            NaN               NaN   \n",
            "4    -124.26     40.58                   NaN            NaN               NaN   \n",
            "\n",
            "   population_x  households_x  median_income_x  median_house_value_x  \\\n",
            "0           NaN           NaN              NaN                   NaN   \n",
            "1           NaN           NaN              NaN                   NaN   \n",
            "2           NaN           NaN              NaN                   NaN   \n",
            "3           NaN           NaN              NaN                   NaN   \n",
            "4           NaN           NaN              NaN                   NaN   \n",
            "\n",
            "   housing_median_age_y  total_rooms_y  total_bedrooms_y  population_y  \\\n",
            "0                  52.0         1820.0             300.0         806.0   \n",
            "1                  19.0         2672.0             552.0        1298.0   \n",
            "2                  17.0         2677.0             531.0        1244.0   \n",
            "3                  36.0         2349.0             528.0        1194.0   \n",
            "4                  52.0         2217.0             394.0         907.0   \n",
            "\n",
            "   households_y  median_income_y  median_house_value_y  \n",
            "0         270.0           3.0147               94600.0  \n",
            "1         478.0           1.9797               85800.0  \n",
            "2         456.0           3.0313              103600.0  \n",
            "3         465.0           2.5179               79000.0  \n",
            "4         369.0           2.3571              111400.0  \n",
            "\n",
            "\n",
            "\n",
            "\n",
            "Concatenated Data - Random Sample:\n",
            "       longitude  latitude  housing_median_age  total_rooms  total_bedrooms  \\\n",
            "16356    -121.93     37.35                36.0       1823.0           410.0   \n",
            "10963    -118.41     34.06                43.0       2665.0           556.0   \n",
            "9016     -118.22     34.13                40.0       2749.0           580.0   \n",
            "10407    -118.35     33.99                47.0       2183.0           380.0   \n",
            "10066    -118.32     34.10                28.0       1759.0           716.0   \n",
            "\n",
            "       population  households  median_income  median_house_value  \n",
            "16356      1589.0       387.0         3.1065            234100.0  \n",
            "10963      1015.0       506.0         4.1411            500001.0  \n",
            "9016       1375.0       511.0         4.8250            205800.0  \n",
            "10407       927.0       371.0         4.9531            180100.0  \n",
            "10066      1463.0       620.0         1.7306            450000.0  \n",
            "\n",
            "\n",
            "\n",
            "\n",
            "Merged Data - Random Sample:\n",
            "       longitude  latitude  housing_median_age_x  total_rooms_x  \\\n",
            "12955    -118.15     33.91                   NaN            NaN   \n",
            "8056     -119.69     36.74                   NaN            NaN   \n",
            "16974    -117.25     34.53                   NaN            NaN   \n",
            "16114    -117.61     34.09                   NaN            NaN   \n",
            "5109     -121.59     39.79                   NaN            NaN   \n",
            "\n",
            "       total_bedrooms_x  population_x  households_x  median_income_x  \\\n",
            "12955               NaN           NaN           NaN              NaN   \n",
            "8056                NaN           NaN           NaN              NaN   \n",
            "16974               NaN           NaN           NaN              NaN   \n",
            "16114               NaN           NaN           NaN              NaN   \n",
            "5109                NaN           NaN           NaN              NaN   \n",
            "\n",
            "       median_house_value_x  housing_median_age_y  total_rooms_y  \\\n",
            "12955                   NaN                  38.0          901.0   \n",
            "8056                    NaN                  23.0         2097.0   \n",
            "16974                   NaN                  13.0         5841.0   \n",
            "16114                   NaN                  23.0         1945.0   \n",
            "5109                    NaN                  20.0          743.0   \n",
            "\n",
            "       total_bedrooms_y  population_y  households_y  median_income_y  \\\n",
            "12955             205.0         760.0         208.0           2.9643   \n",
            "8056              385.0         911.0         405.0           3.5128   \n",
            "16974             955.0        2455.0         915.0           4.1333   \n",
            "16114             362.0        1483.0         383.0           4.4205   \n",
            "5109              171.0         395.0         168.0           1.6250   \n",
            "\n",
            "       median_house_value_y  \n",
            "12955              147400.0  \n",
            "8056               121600.0  \n",
            "16974              158200.0  \n",
            "16114              135500.0  \n",
            "5109                88300.0  \n"
          ]
        }
      ],
      "source": [
        "import pandas as pd#importing the pandas lib\n",
        "import numpy as np#importing nnumpy lib\n",
        "\n",
        "url1 = \"/content/sample_data/california_housing_test.csv\"# url for dataset1\n",
        "data1 = pd.read_csv(url1) #reading the dataset\n",
        "\n",
        "url2 = \"/content/sample_data/california_housing_train.csv\"# url for dataset2\n",
        "data2 = pd.read_csv(url2)#reading dataset 2\n",
        "\n",
        "cc_data = pd.concat([data1, data2], ignore_index=True)\n",
        "\n",
        "merge_data = pd.merge(data1, data2, how=\"outer\", on=[\"longitude\", \"latitude\"])\n",
        "\n",
        "\n",
        "print(\"Concatenated Data - First few rows:\")\n",
        "print(cc_data.head())\n",
        "\n",
        "print(\"Merged Data - First few rows:\")\n",
        "print(merge_data.head())\n",
        "print(\"\\n\")\n",
        "print(\"\\n\")\n",
        "# Sampling from the concatenated data\n",
        "print(\"Concatenated Data - Random Sample:\")\n",
        "print(cc_data.sample(5))  # Sample 5 random rows\n",
        "print(\"\\n\")\n",
        "print(\"\\n\")\n",
        "# Sampling from the merged data\n",
        "print(\"Merged Data - Random Sample:\")\n",
        "print(merge_data.sample(5))  # Sample 5 random rows"
      ]
    },
    {
      "cell_type": "markdown",
      "source": [],
      "metadata": {
        "id": "l5qRUwePsTKW"
      }
    },
    {
      "cell_type": "markdown",
      "source": [],
      "metadata": {
        "id": "TdmripdbciAG"
      }
    }
  ]
}