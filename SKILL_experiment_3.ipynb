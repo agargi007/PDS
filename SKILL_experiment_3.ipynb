{
  "nbformat": 4,
  "nbformat_minor": 0,
  "metadata": {
    "colab": {
      "provenance": [],
      "authorship_tag": "ABX9TyPGDM3plrU3X6F2HjxCNV7o",
      "include_colab_link": true
    },
    "kernelspec": {
      "name": "python3",
      "display_name": "Python 3"
    },
    "language_info": {
      "name": "python"
    }
  },
  "cells": [
    {
      "cell_type": "markdown",
      "metadata": {
        "id": "view-in-github",
        "colab_type": "text"
      },
      "source": [
        "<a href=\"https://colab.research.google.com/github/agargi007/PDS/blob/main/SKILL_experiment_3.ipynb\" target=\"_parent\"><img src=\"https://colab.research.google.com/assets/colab-badge.svg\" alt=\"Open In Colab\"/></a>"
      ]
    },
    {
      "cell_type": "markdown",
      "source": [
        "In the context of Python for Data Science (PDS), outliers are data points that differ significantly from other observations in a dataset. They lie far outside the overall pattern and can be caused by variability in the data, measurement errors, or rare events.\n",
        "\n",
        "\n",
        "Common Methods to Identify Outliers\n",
        "1. Statistical Methods\n",
        "\n",
        "      1) Z-Score Method: A data point is considered an outlier if its z-score (standard deviations away from the mean) is greater than 3 or less than -3.   \n",
        "       formula: zscore = (value - mean) / standard deviation.\n",
        "\n",
        "      2) IQR Method: Using the interquartile range:Use the IQR= Q3 - Q1 formula to calculate the outlier.  \n",
        "      Outliers are data points below Q1 - 1.5 × IQR or above Q3 + 1.5 × IQR. Can use data points below Q1 - 2 * IQR or above Q3 + 2 * IQR (for less stricter outlier).\n",
        "      specify lower_bound and upper_bound .\n",
        "       formula : IQR = (Q3 - Q1)\n",
        "\n",
        "2. Visualization:\n",
        " 1)Box plots.\n",
        " 2)Scatter plots\n",
        " 3x).Distribution plots (e.g., histograms, KDE plots)"
      ],
      "metadata": {
        "id": "WBK9VIBNUEji"
      }
    },
    {
      "cell_type": "markdown",
      "source": [
        "Implementing outliers using IQR method (interquartile method)\n",
        "\n",
        "QR (Interquartile Range) is a measure of statistical dispersion, or in simpler terms, how spread out the values in a dataset are. It is the range between the 25th percentile (Q1) and the 75th percentile (Q3), and it represents the middle 50% of the data.\n",
        "\n",
        "formula: IQR = (Q3- Q1)"
      ],
      "metadata": {
        "id": "9WYtmRdHnwwH"
      }
    },
    {
      "cell_type": "code",
      "execution_count": 8,
      "metadata": {
        "colab": {
          "base_uri": "https://localhost:8080/"
        },
        "id": "zLK3wM7eQaMl",
        "outputId": "9a2710ab-89a9-4a32-b38c-6ded2c5c3b3e"
      },
      "outputs": [
        {
          "output_type": "stream",
          "name": "stdout",
          "text": [
            "Outliers:\n",
            "Empty DataFrame\n",
            "Columns: [longitude, latitude, housing_median_age, total_rooms, total_bedrooms, population, households, median_income, median_house_value]\n",
            "Index: []\n",
            "Cleaned Data:\n",
            "      longitude  latitude  housing_median_age  total_rooms  total_bedrooms  \\\n",
            "0       -122.05     37.37                27.0       3885.0           661.0   \n",
            "1       -118.30     34.26                43.0       1510.0           310.0   \n",
            "2       -117.81     33.78                27.0       3589.0           507.0   \n",
            "3       -118.36     33.82                28.0         67.0            15.0   \n",
            "4       -119.67     36.33                19.0       1241.0           244.0   \n",
            "...         ...       ...                 ...          ...             ...   \n",
            "2995    -119.86     34.42                23.0       1450.0           642.0   \n",
            "2996    -118.14     34.06                27.0       5257.0          1082.0   \n",
            "2997    -119.70     36.30                10.0        956.0           201.0   \n",
            "2998    -117.12     34.10                40.0         96.0            14.0   \n",
            "2999    -119.63     34.42                42.0       1765.0           263.0   \n",
            "\n",
            "      population  households  median_income  median_house_value  \n",
            "0         1537.0       606.0         6.6085            344700.0  \n",
            "1          809.0       277.0         3.5990            176500.0  \n",
            "2         1484.0       495.0         5.7934            270500.0  \n",
            "3           49.0        11.0         6.1359            330000.0  \n",
            "4          850.0       237.0         2.9375             81700.0  \n",
            "...          ...         ...            ...                 ...  \n",
            "2995      1258.0       607.0         1.1790            225000.0  \n",
            "2996      3496.0      1036.0         3.3906            237200.0  \n",
            "2997       693.0       220.0         2.2895             62000.0  \n",
            "2998        46.0        14.0         3.2708            162500.0  \n",
            "2999       753.0       260.0         8.5608            500001.0  \n",
            "\n",
            "[3000 rows x 9 columns]\n"
          ]
        }
      ],
      "source": [
        "import pandas as pd#importing the pandas lib\n",
        "import numpy as np#importing nnumpy lib\n",
        "\n",
        "url1 = \"/content/sample_data/california_housing_test.csv\"# url for dataset1\n",
        "df= pd.read_csv(url1) #reading the dataset\n",
        "column = df[\"latitude\"]\n",
        "# performing IQR (interquartile range)\n",
        "Q1 = column.quantile(0.25)  # 25th percentile\n",
        "Q3 = column.quantile(0.75)  # 75th percentile\n",
        "IQR = Q3 - Q1\n",
        "\n",
        "lower_bound = Q1 - 2* IQR\n",
        "upper_bound = Q3 + 2 * IQR\n",
        "\n",
        "outliers = df[(column < lower_bound) | (column > upper_bound)]\n",
        "print(\"Outliers:\")\n",
        "print(outliers)\n",
        "\n",
        "# Optional: Remove outliers if needed\n",
        "cleaned_data = df[(column >= lower_bound) & (column <= upper_bound)]\n",
        "print(\"Cleaned Data:\")\n",
        "print(cleaned_data)"
      ]
    },
    {
      "cell_type": "markdown",
      "source": [
        "Implementing outliers using zscore method .\n",
        "\n",
        "The Z-score is a statistical measure that describes how many standard deviations a data point is from the mean of the dataset.\n",
        "  \n",
        "  formula: (value- mean) / standard deviation.\n"
      ],
      "metadata": {
        "id": "htq7wSZLmyn1"
      }
    },
    {
      "cell_type": "code",
      "source": [
        "import pandas as pd\n",
        "import numpy as np\n",
        "\n",
        "url1 = \"/content/sample_data/california_housing_test.csv\"\n",
        "df = pd.read_csv(url1)\n",
        "\n",
        "column = df[\"latitude\"]\n",
        "\n",
        "mean = column.mean()\n",
        "std = column.std()\n",
        "\n",
        "z_scores = (column - mean) / std\n",
        "\n",
        "threshold = 3\n",
        "\n",
        "outliers = df[(z_scores < -threshold) | (z_scores > threshold)]\n",
        "print(\"Outliers:\")\n",
        "print(outliers)\n",
        "\n",
        "cleaned_data = df[(z_scores >= -threshold) & (z_scores <= threshold)]\n",
        "print(\"Cleaned Data:\")\n",
        "print(cleaned_data)\n"
      ],
      "metadata": {
        "colab": {
          "base_uri": "https://localhost:8080/"
        },
        "id": "hkI1XgLripXS",
        "outputId": "742878bc-7153-484f-83e8-355c2a3c777c"
      },
      "execution_count": 6,
      "outputs": [
        {
          "output_type": "stream",
          "name": "stdout",
          "text": [
            "Outliers:\n",
            "Empty DataFrame\n",
            "Columns: [longitude, latitude, housing_median_age, total_rooms, total_bedrooms, population, households, median_income, median_house_value]\n",
            "Index: []\n",
            "Cleaned Data:\n",
            "      longitude  latitude  housing_median_age  total_rooms  total_bedrooms  \\\n",
            "0       -122.05     37.37                27.0       3885.0           661.0   \n",
            "1       -118.30     34.26                43.0       1510.0           310.0   \n",
            "2       -117.81     33.78                27.0       3589.0           507.0   \n",
            "3       -118.36     33.82                28.0         67.0            15.0   \n",
            "4       -119.67     36.33                19.0       1241.0           244.0   \n",
            "...         ...       ...                 ...          ...             ...   \n",
            "2995    -119.86     34.42                23.0       1450.0           642.0   \n",
            "2996    -118.14     34.06                27.0       5257.0          1082.0   \n",
            "2997    -119.70     36.30                10.0        956.0           201.0   \n",
            "2998    -117.12     34.10                40.0         96.0            14.0   \n",
            "2999    -119.63     34.42                42.0       1765.0           263.0   \n",
            "\n",
            "      population  households  median_income  median_house_value  \n",
            "0         1537.0       606.0         6.6085            344700.0  \n",
            "1          809.0       277.0         3.5990            176500.0  \n",
            "2         1484.0       495.0         5.7934            270500.0  \n",
            "3           49.0        11.0         6.1359            330000.0  \n",
            "4          850.0       237.0         2.9375             81700.0  \n",
            "...          ...         ...            ...                 ...  \n",
            "2995      1258.0       607.0         1.1790            225000.0  \n",
            "2996      3496.0      1036.0         3.3906            237200.0  \n",
            "2997       693.0       220.0         2.2895             62000.0  \n",
            "2998        46.0        14.0         3.2708            162500.0  \n",
            "2999       753.0       260.0         8.5608            500001.0  \n",
            "\n",
            "[3000 rows x 9 columns]\n"
          ]
        }
      ]
    },
    {
      "cell_type": "markdown",
      "source": [
        "Implementing Outliers using box plot."
      ],
      "metadata": {
        "id": "YVWNbN30mkg_"
      }
    },
    {
      "cell_type": "code",
      "source": [
        "import pandas as pd\n",
        "import numpy as np\n",
        "import seaborn as sns\n",
        "import matplotlib.pyplot as plt\n",
        "\n",
        "url1 = \"/content/sample_data/california_housing_test.csv\"\n",
        "df = pd.read_csv(url1)\n",
        "\n",
        "# Box plot for latitude\n",
        "sns.boxplot(x=df[\"latitude\"])\n",
        "plt.title('Box Plot of Latitude')\n",
        "plt.show()\n",
        "\n",
        "# Box plot for longitude\n",
        "sns.boxplot(x=df[\"longitude\"])\n",
        "plt.title('Box Plot of Longitude')\n",
        "plt.show()\n"
      ],
      "metadata": {
        "colab": {
          "base_uri": "https://localhost:8080/",
          "height": 927
        },
        "id": "w76ng3BhlvPP",
        "outputId": "665bacdb-4737-49dd-9463-c93487215447"
      },
      "execution_count": 12,
      "outputs": [
        {
          "output_type": "display_data",
          "data": {
            "text/plain": [
              "<Figure size 640x480 with 1 Axes>"
            ],
            "image/png": "[encoded data removed]"
          },
          "metadata": {}
        },
        {
          "output_type": "display_data",
          "data": {
            "text/plain": [
              "<Figure size 640x480 with 1 Axes>"
            ],
            "image/png": "[encoded data removed]"
          },
          "metadata": {}
        }
      ]
    }
  ]
}